{
 "cells": [
  {
   "cell_type": "code",
   "execution_count": 1,
   "id": "24e26911-c61a-4436-a550-643e1a4404c5",
   "metadata": {},
   "outputs": [],
   "source": [
    "import pandas as pd\n",
    "import numpy as np\n",
    "import matplotlib.pyplot as plt\n",
    "%matplotlib inline"
   ]
  },
  {
   "cell_type": "code",
   "execution_count": 2,
   "id": "b84d1535-d30d-48da-9f38-99b724c9401e",
   "metadata": {},
   "outputs": [],
   "source": [
    "def factorial(n):\n",
    "    result = 1\n",
    "    for i in range(n, 0, -1):\n",
    "        result *= i\n",
    "    return result\n",
    "\n",
    "def combinations(n,k):\n",
    "    numerator = factorial(n)\n",
    "    denominator = factorial(k)*factorial(n-k)\n",
    "    return numerator/denominator"
   ]
  },
  {
   "cell_type": "code",
   "execution_count": 3,
   "id": "f6427d49-6da3-46de-bdcf-680fc33619c3",
   "metadata": {},
   "outputs": [],
   "source": [
    "def one_ticket_probability(li):\n",
    "    tot_comb = combinations(49,6)\n",
    "    prob_1_ticket = (1/tot_comb)*100\n",
    "    print(\"The probability of {} winning is {:.7f}%\".format(li, prob_1_ticket))"
   ]
  },
  {
   "cell_type": "code",
   "execution_count": 4,
   "id": "1ce96297-bc86-4d4e-9ad2-89fa8e646aa1",
   "metadata": {},
   "outputs": [
    {
     "name": "stdout",
     "output_type": "stream",
     "text": [
      "The probability of [3, 11, 12, 14, 41, 43] winning is 0.0000072%\n"
     ]
    }
   ],
   "source": [
    "test = [3,11,12,14,41,43]\n",
    "one_ticket_probability(test)"
   ]
  },
  {
   "cell_type": "code",
   "execution_count": 5,
   "id": "fafcdfd1-4c3a-4c5a-a2cf-a4a3d6983350",
   "metadata": {},
   "outputs": [],
   "source": [
    "data = pd.read_csv(\"649.csv\")"
   ]
  },
  {
   "cell_type": "code",
   "execution_count": 6,
   "id": "b3f6f1f4-15ef-43dd-a7e5-835a244b31a2",
   "metadata": {},
   "outputs": [
    {
     "data": {
      "text/html": [
       "<div><div id=dd18113d-37d0-48db-b2a4-27f9f5086b02 style=\"display:none; background-color:#9D6CFF; color:white; width:200px; height:30px; padding-left:5px; border-radius:4px; flex-direction:row; justify-content:space-around; align-items:center;\" onmouseover=\"this.style.backgroundColor='#BA9BF8'\" onmouseout=\"this.style.backgroundColor='#9D6CFF'\" onclick=\"window.commands?.execute('create-mitosheet-from-dataframe-output');\">See Full Dataframe in Mito</div> <script> if (window.commands.hasCommand('create-mitosheet-from-dataframe-output')) document.getElementById('dd18113d-37d0-48db-b2a4-27f9f5086b02').style.display = 'flex' </script> <table border=\"1\" class=\"dataframe\">\n",
       "  <thead>\n",
       "    <tr style=\"text-align: right;\">\n",
       "      <th></th>\n",
       "      <th>PRODUCT</th>\n",
       "      <th>DRAW NUMBER</th>\n",
       "      <th>SEQUENCE NUMBER</th>\n",
       "      <th>DRAW DATE</th>\n",
       "      <th>NUMBER DRAWN 1</th>\n",
       "      <th>NUMBER DRAWN 2</th>\n",
       "      <th>NUMBER DRAWN 3</th>\n",
       "      <th>NUMBER DRAWN 4</th>\n",
       "      <th>NUMBER DRAWN 5</th>\n",
       "      <th>NUMBER DRAWN 6</th>\n",
       "      <th>BONUS NUMBER</th>\n",
       "    </tr>\n",
       "  </thead>\n",
       "  <tbody>\n",
       "    <tr>\n",
       "      <th>0</th>\n",
       "      <td>649</td>\n",
       "      <td>1</td>\n",
       "      <td>0</td>\n",
       "      <td>6/12/1982</td>\n",
       "      <td>3</td>\n",
       "      <td>11</td>\n",
       "      <td>12</td>\n",
       "      <td>14</td>\n",
       "      <td>41</td>\n",
       "      <td>43</td>\n",
       "      <td>13</td>\n",
       "    </tr>\n",
       "    <tr>\n",
       "      <th>1</th>\n",
       "      <td>649</td>\n",
       "      <td>2</td>\n",
       "      <td>0</td>\n",
       "      <td>6/19/1982</td>\n",
       "      <td>8</td>\n",
       "      <td>33</td>\n",
       "      <td>36</td>\n",
       "      <td>37</td>\n",
       "      <td>39</td>\n",
       "      <td>41</td>\n",
       "      <td>9</td>\n",
       "    </tr>\n",
       "    <tr>\n",
       "      <th>2</th>\n",
       "      <td>649</td>\n",
       "      <td>3</td>\n",
       "      <td>0</td>\n",
       "      <td>6/26/1982</td>\n",
       "      <td>1</td>\n",
       "      <td>6</td>\n",
       "      <td>23</td>\n",
       "      <td>24</td>\n",
       "      <td>27</td>\n",
       "      <td>39</td>\n",
       "      <td>34</td>\n",
       "    </tr>\n",
       "    <tr>\n",
       "      <th>3</th>\n",
       "      <td>649</td>\n",
       "      <td>4</td>\n",
       "      <td>0</td>\n",
       "      <td>7/3/1982</td>\n",
       "      <td>3</td>\n",
       "      <td>9</td>\n",
       "      <td>10</td>\n",
       "      <td>13</td>\n",
       "      <td>20</td>\n",
       "      <td>43</td>\n",
       "      <td>34</td>\n",
       "    </tr>\n",
       "    <tr>\n",
       "      <th>4</th>\n",
       "      <td>649</td>\n",
       "      <td>5</td>\n",
       "      <td>0</td>\n",
       "      <td>7/10/1982</td>\n",
       "      <td>5</td>\n",
       "      <td>14</td>\n",
       "      <td>21</td>\n",
       "      <td>31</td>\n",
       "      <td>34</td>\n",
       "      <td>47</td>\n",
       "      <td>45</td>\n",
       "    </tr>\n",
       "  </tbody>\n",
       "</table></div>"
      ],
      "text/plain": [
       "   PRODUCT  DRAW NUMBER  SEQUENCE NUMBER  DRAW DATE  NUMBER DRAWN 1  \\\n",
       "0      649            1                0  6/12/1982               3   \n",
       "1      649            2                0  6/19/1982               8   \n",
       "2      649            3                0  6/26/1982               1   \n",
       "3      649            4                0   7/3/1982               3   \n",
       "4      649            5                0  7/10/1982               5   \n",
       "\n",
       "   NUMBER DRAWN 2  NUMBER DRAWN 3  NUMBER DRAWN 4  NUMBER DRAWN 5  \\\n",
       "0              11              12              14              41   \n",
       "1              33              36              37              39   \n",
       "2               6              23              24              27   \n",
       "3               9              10              13              20   \n",
       "4              14              21              31              34   \n",
       "\n",
       "   NUMBER DRAWN 6  BONUS NUMBER  \n",
       "0              43            13  \n",
       "1              41             9  \n",
       "2              39            34  \n",
       "3              43            34  \n",
       "4              47            45  "
      ]
     },
     "execution_count": 6,
     "metadata": {},
     "output_type": "execute_result"
    }
   ],
   "source": [
    "data.head()"
   ]
  },
  {
   "cell_type": "code",
   "execution_count": 7,
   "id": "a3466184-de6a-4488-837a-85f5fc0bb5f0",
   "metadata": {},
   "outputs": [
    {
     "data": {
      "text/html": [
       "<div><div id=3adff701-ce09-490b-a9f9-d150643dcc02 style=\"display:none; background-color:#9D6CFF; color:white; width:200px; height:30px; padding-left:5px; border-radius:4px; flex-direction:row; justify-content:space-around; align-items:center;\" onmouseover=\"this.style.backgroundColor='#BA9BF8'\" onmouseout=\"this.style.backgroundColor='#9D6CFF'\" onclick=\"window.commands?.execute('create-mitosheet-from-dataframe-output');\">See Full Dataframe in Mito</div> <script> if (window.commands.hasCommand('create-mitosheet-from-dataframe-output')) document.getElementById('3adff701-ce09-490b-a9f9-d150643dcc02').style.display = 'flex' </script> <table border=\"1\" class=\"dataframe\">\n",
       "  <thead>\n",
       "    <tr style=\"text-align: right;\">\n",
       "      <th></th>\n",
       "      <th>PRODUCT</th>\n",
       "      <th>DRAW NUMBER</th>\n",
       "      <th>SEQUENCE NUMBER</th>\n",
       "      <th>DRAW DATE</th>\n",
       "      <th>NUMBER DRAWN 1</th>\n",
       "      <th>NUMBER DRAWN 2</th>\n",
       "      <th>NUMBER DRAWN 3</th>\n",
       "      <th>NUMBER DRAWN 4</th>\n",
       "      <th>NUMBER DRAWN 5</th>\n",
       "      <th>NUMBER DRAWN 6</th>\n",
       "      <th>BONUS NUMBER</th>\n",
       "    </tr>\n",
       "  </thead>\n",
       "  <tbody>\n",
       "    <tr>\n",
       "      <th>3660</th>\n",
       "      <td>649</td>\n",
       "      <td>3587</td>\n",
       "      <td>0</td>\n",
       "      <td>6/6/2018</td>\n",
       "      <td>10</td>\n",
       "      <td>15</td>\n",
       "      <td>23</td>\n",
       "      <td>38</td>\n",
       "      <td>40</td>\n",
       "      <td>41</td>\n",
       "      <td>35</td>\n",
       "    </tr>\n",
       "    <tr>\n",
       "      <th>3661</th>\n",
       "      <td>649</td>\n",
       "      <td>3588</td>\n",
       "      <td>0</td>\n",
       "      <td>6/9/2018</td>\n",
       "      <td>19</td>\n",
       "      <td>25</td>\n",
       "      <td>31</td>\n",
       "      <td>36</td>\n",
       "      <td>46</td>\n",
       "      <td>47</td>\n",
       "      <td>26</td>\n",
       "    </tr>\n",
       "    <tr>\n",
       "      <th>3662</th>\n",
       "      <td>649</td>\n",
       "      <td>3589</td>\n",
       "      <td>0</td>\n",
       "      <td>6/13/2018</td>\n",
       "      <td>6</td>\n",
       "      <td>22</td>\n",
       "      <td>24</td>\n",
       "      <td>31</td>\n",
       "      <td>32</td>\n",
       "      <td>34</td>\n",
       "      <td>16</td>\n",
       "    </tr>\n",
       "    <tr>\n",
       "      <th>3663</th>\n",
       "      <td>649</td>\n",
       "      <td>3590</td>\n",
       "      <td>0</td>\n",
       "      <td>6/16/2018</td>\n",
       "      <td>2</td>\n",
       "      <td>15</td>\n",
       "      <td>21</td>\n",
       "      <td>31</td>\n",
       "      <td>38</td>\n",
       "      <td>49</td>\n",
       "      <td>8</td>\n",
       "    </tr>\n",
       "    <tr>\n",
       "      <th>3664</th>\n",
       "      <td>649</td>\n",
       "      <td>3591</td>\n",
       "      <td>0</td>\n",
       "      <td>6/20/2018</td>\n",
       "      <td>14</td>\n",
       "      <td>24</td>\n",
       "      <td>31</td>\n",
       "      <td>35</td>\n",
       "      <td>37</td>\n",
       "      <td>48</td>\n",
       "      <td>17</td>\n",
       "    </tr>\n",
       "  </tbody>\n",
       "</table></div>"
      ],
      "text/plain": [
       "      PRODUCT  DRAW NUMBER  SEQUENCE NUMBER  DRAW DATE  NUMBER DRAWN 1  \\\n",
       "3660      649         3587                0   6/6/2018              10   \n",
       "3661      649         3588                0   6/9/2018              19   \n",
       "3662      649         3589                0  6/13/2018               6   \n",
       "3663      649         3590                0  6/16/2018               2   \n",
       "3664      649         3591                0  6/20/2018              14   \n",
       "\n",
       "      NUMBER DRAWN 2  NUMBER DRAWN 3  NUMBER DRAWN 4  NUMBER DRAWN 5  \\\n",
       "3660              15              23              38              40   \n",
       "3661              25              31              36              46   \n",
       "3662              22              24              31              32   \n",
       "3663              15              21              31              38   \n",
       "3664              24              31              35              37   \n",
       "\n",
       "      NUMBER DRAWN 6  BONUS NUMBER  \n",
       "3660              41            35  \n",
       "3661              47            26  \n",
       "3662              34            16  \n",
       "3663              49             8  \n",
       "3664              48            17  "
      ]
     },
     "execution_count": 7,
     "metadata": {},
     "output_type": "execute_result"
    }
   ],
   "source": [
    "data.tail()"
   ]
  },
  {
   "cell_type": "code",
   "execution_count": 8,
   "id": "aeabb02c-24ef-4684-b307-d431f80952a8",
   "metadata": {},
   "outputs": [
    {
     "data": {
      "text/plain": [
       "0    {3, 41, 11, 12, 43, 14}\n",
       "1    {33, 36, 37, 39, 8, 41}\n",
       "2     {1, 6, 39, 23, 24, 27}\n",
       "3     {3, 9, 10, 43, 13, 20}\n",
       "4    {34, 5, 14, 47, 21, 31}\n",
       "dtype: object"
      ]
     },
     "execution_count": 8,
     "metadata": {},
     "output_type": "execute_result"
    }
   ],
   "source": [
    "def extract_numbers(row):\n",
    "    row = row[4:10]\n",
    "    row = set(row.values)\n",
    "    return row\n",
    "\n",
    "winners = data.apply(extract_numbers, axis=1)\n",
    "winners.head()"
   ]
  },
  {
   "cell_type": "code",
   "execution_count": 9,
   "id": "80abe241-3177-4fcf-a321-e4f2328df144",
   "metadata": {},
   "outputs": [],
   "source": [
    "def check_historical_occurance(userli, winners):\n",
    "    test = set(userli)\n",
    "    mask = test == winners\n",
    "    print(\"The numbers {} have won {} times in the past.\".format(test, mask.sum()))"
   ]
  },
  {
   "cell_type": "code",
   "execution_count": 10,
   "id": "ee0396de-8512-4cfd-8403-3f3b5aa091e8",
   "metadata": {},
   "outputs": [
    {
     "name": "stdout",
     "output_type": "stream",
     "text": [
      "The numbers {3, 41, 11, 12, 43, 14} have won 1 times in the past.\n"
     ]
    }
   ],
   "source": [
    "check_historical_occurance(test, winners)"
   ]
  },
  {
   "cell_type": "code",
   "execution_count": 11,
   "id": "37114e76-3875-43a0-aa8c-969205579010",
   "metadata": {},
   "outputs": [],
   "source": [
    "def multi_ticket_probability(n):\n",
    "    tot_comb = combinations(49,6)\n",
    "    prob_multi_ticket = (n/tot_comb)*100\n",
    "    print(\"The probability of the winner being among {} tickets played is {:.7f}%\".format(n, prob_multi_ticket))"
   ]
  },
  {
   "cell_type": "code",
   "execution_count": 12,
   "id": "a95bd9bf-6aee-4b01-967c-c7ad37d17606",
   "metadata": {},
   "outputs": [
    {
     "name": "stdout",
     "output_type": "stream",
     "text": [
      "The probability of the winner being among 1 tickets played is 0.0000072%\n"
     ]
    }
   ],
   "source": [
    "multi_ticket_probability(1)"
   ]
  },
  {
   "cell_type": "code",
   "execution_count": 13,
   "id": "e06f8f30-9105-4b2a-9c64-f387d0fdc61c",
   "metadata": {},
   "outputs": [
    {
     "name": "stdout",
     "output_type": "stream",
     "text": [
      "The probability of the winner being among 10 tickets played is 0.0000715%\n"
     ]
    }
   ],
   "source": [
    "multi_ticket_probability(10)"
   ]
  },
  {
   "cell_type": "code",
   "execution_count": 14,
   "id": "cf8844b0-867b-4d90-af47-cd9dfd6cc465",
   "metadata": {},
   "outputs": [
    {
     "name": "stdout",
     "output_type": "stream",
     "text": [
      "The probability of the winner being among 100 tickets played is 0.0007151%\n"
     ]
    }
   ],
   "source": [
    "multi_ticket_probability(100)"
   ]
  },
  {
   "cell_type": "code",
   "execution_count": 15,
   "id": "817ad0e3-e3e9-42c7-924e-f72d0770a636",
   "metadata": {},
   "outputs": [
    {
     "name": "stdout",
     "output_type": "stream",
     "text": [
      "The probability of the winner being among 10000 tickets played is 0.0715112%\n"
     ]
    }
   ],
   "source": [
    "multi_ticket_probability(10000)"
   ]
  },
  {
   "cell_type": "code",
   "execution_count": 16,
   "id": "80bbd8b7-568a-4687-bcd8-19923ea04711",
   "metadata": {},
   "outputs": [
    {
     "name": "stdout",
     "output_type": "stream",
     "text": [
      "The probability of the winner being among 1000000 tickets played is 7.1511238%\n"
     ]
    }
   ],
   "source": [
    "multi_ticket_probability(1000000)"
   ]
  },
  {
   "cell_type": "code",
   "execution_count": 17,
   "id": "165e251f-1c14-43f8-bc59-ea1821577c3e",
   "metadata": {},
   "outputs": [
    {
     "name": "stdout",
     "output_type": "stream",
     "text": [
      "The probability of the winner being among 6991908 tickets played is 50.0000000%\n"
     ]
    }
   ],
   "source": [
    "multi_ticket_probability(6991908)"
   ]
  },
  {
   "cell_type": "code",
   "execution_count": 18,
   "id": "2b46e825-ebc9-445b-9d95-8dc6743a62a1",
   "metadata": {},
   "outputs": [
    {
     "name": "stdout",
     "output_type": "stream",
     "text": [
      "The probability of the winner being among 13983816 tickets played is 100.0000000%\n"
     ]
    }
   ],
   "source": [
    "multi_ticket_probability(13983816)"
   ]
  },
  {
   "cell_type": "code",
   "execution_count": 19,
   "id": "6ed8597f-b466-4d9a-93e6-0d3a2c39eb68",
   "metadata": {},
   "outputs": [],
   "source": [
    "def probability_less_6(k):\n",
    "    tot_comb = combinations(49,k)\n",
    "    prob_multi_ticket = (1/tot_comb)*100\n",
    "    print(\"The probability of a winning ticket including {} correct numbers out of a possible 6 is {:.7f}%\".format(k, prob_multi_ticket))"
   ]
  },
  {
   "cell_type": "code",
   "execution_count": 20,
   "id": "ddd35ced-38eb-45d4-b1ee-6366fb2ced5c",
   "metadata": {},
   "outputs": [
    {
     "name": "stdout",
     "output_type": "stream",
     "text": [
      "The probability of a winning ticket including 2 correct numbers out of a possible 6 is 0.0850340%\n",
      "The probability of a winning ticket including 3 correct numbers out of a possible 6 is 0.0054277%\n",
      "The probability of a winning ticket including 4 correct numbers out of a possible 6 is 0.0004720%\n",
      "The probability of a winning ticket including 5 correct numbers out of a possible 6 is 0.0000524%\n"
     ]
    }
   ],
   "source": [
    "for i in range(2,6,1):\n",
    "    probability_less_6(i)"
   ]
  },
  {
   "cell_type": "code",
   "execution_count": 21,
   "id": "3a025094-7ea7-45c8-bebc-5db94745ef08",
   "metadata": {},
   "outputs": [],
   "source": [
    "def probability_less_6_multi(n,k):\n",
    "    tot_comb = combinations(49,k)\n",
    "    prob_multi_ticket = (n/tot_comb)*100\n",
    "    print(\"The probability of a having a winning ticket including {} correct numbers out of a possible 6 when playing {} tickets is {:.7f}%\".format(k, n, prob_multi_ticket))"
   ]
  },
  {
   "cell_type": "code",
   "execution_count": 22,
   "id": "5efe3f56-853f-47fa-944d-24318d77a748",
   "metadata": {},
   "outputs": [
    {
     "name": "stdout",
     "output_type": "stream",
     "text": [
      "The probability of a having a winning ticket including 2 correct numbers out of a possible 6 when playing 1 tickets is 0.0850340%\n"
     ]
    }
   ],
   "source": [
    "probability_less_6_multi(1,2)"
   ]
  },
  {
   "cell_type": "code",
   "execution_count": 23,
   "id": "d6eab5ff-0a7d-4f61-93ae-6bc5866582e2",
   "metadata": {},
   "outputs": [
    {
     "name": "stdout",
     "output_type": "stream",
     "text": [
      "The probability of a having a winning ticket including 2 correct numbers out of a possible 6 when playing 100 tickets is 8.5034014%\n"
     ]
    }
   ],
   "source": [
    "probability_less_6_multi(100,2)"
   ]
  },
  {
   "cell_type": "code",
   "execution_count": 24,
   "id": "21e541ca-64fa-4e94-a301-2d3344582944",
   "metadata": {},
   "outputs": [
    {
     "name": "stdout",
     "output_type": "stream",
     "text": [
      "The probability of a having a winning ticket including 3 correct numbers out of a possible 6 when playing 100 tickets is 0.5427703%\n"
     ]
    }
   ],
   "source": [
    "probability_less_6_multi(100,3)"
   ]
  },
  {
   "cell_type": "code",
   "execution_count": 25,
   "id": "5751310a-e55f-42e2-80f6-6bb6e420bd7d",
   "metadata": {},
   "outputs": [
    {
     "name": "stdout",
     "output_type": "stream",
     "text": [
      "The probability of a having a winning ticket including 4 correct numbers out of a possible 6 when playing 100 tickets is 0.0471974%\n"
     ]
    }
   ],
   "source": [
    "probability_less_6_multi(100,4)"
   ]
  },
  {
   "cell_type": "code",
   "execution_count": 26,
   "id": "3c6846fd-cadb-4e49-8fa1-9792a4e9e813",
   "metadata": {},
   "outputs": [
    {
     "name": "stdin",
     "output_type": "stream",
     "text": [
      "Enter your value:  25\n"
     ]
    },
    {
     "name": "stdout",
     "output_type": "stream",
     "text": [
      "25\n"
     ]
    }
   ],
   "source": [
    "val = input(\"Enter your value: \")\n",
    "print(val)"
   ]
  },
  {
   "cell_type": "code",
   "execution_count": null,
   "id": "ebea7d7e-907c-4af4-b98a-77478b4ac671",
   "metadata": {},
   "outputs": [],
   "source": []
  }
 ],
 "metadata": {
  "kernelspec": {
   "display_name": "Python 3",
   "language": "python",
   "name": "python3"
  },
  "language_info": {
   "codemirror_mode": {
    "name": "ipython",
    "version": 3
   },
   "file_extension": ".py",
   "mimetype": "text/x-python",
   "name": "python",
   "nbconvert_exporter": "python",
   "pygments_lexer": "ipython3",
   "version": "3.8.8"
  }
 },
 "nbformat": 4,
 "nbformat_minor": 5
}
